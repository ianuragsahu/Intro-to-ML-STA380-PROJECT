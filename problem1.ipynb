{
 "cells": [
  {
   "cell_type": "markdown",
   "id": "fbe024d4",
   "metadata": {},
   "source": [
    "# Probability practice\n",
    "\n",
    "Part A. Visitors to your website are asked to answer a single survey question before they get access to the content on the page. Among all of the users, there are two categories: Random Clicker (RC), and Truthful Clicker (TC). There are two possible answers to the survey: yes and no. Random clickers would click either one with equal probability. You are also giving the information that the expected fraction of random clickers is 0.3. After a trial period, you get the following survey results: 65% said Yes and 35% said No. What fraction of people who are truthful clickers answered yes? Hint: use the rule of total probability.\n",
    "\n",
    "Part B. Imagine a medical test for a disease with the following two attributes:\n",
    "\n",
    "The sensitivity is about 0.993. That is, if someone has the disease, there is a probability of 0.993 that they will test positive.\n",
    "The specificity is about 0.9999. This means that if someone doesn't have the disease, there is probability of 0.9999 that they will test negative.\n",
    "In the general population, incidence of the disease is reasonably rare: about 0.0025% of all people have it (or 0.000025 as a decimal probability).\n",
    "Suppose someone tests positive. What is the probability that they have the disease?\n",
    "\n"
   ]
  },
  {
   "cell_type": "markdown",
   "id": "08ffe062",
   "metadata": {},
   "source": [
    "## Part A"
   ]
  },
  {
   "cell_type": "code",
   "execution_count": 70,
   "id": "6317fa6c",
   "metadata": {},
   "outputs": [
    {
     "data": {
      "text/plain": [
       "0.7142857142857143"
      ]
     },
     "execution_count": 70,
     "metadata": {},
     "output_type": "execute_result"
    }
   ],
   "source": [
    "#Expected fraction of random clickers\n",
    "p_rc=0.3\n",
    "\n",
    "#Expected fraction of truthful clickers\n",
    "p_tc=0.7\n",
    "\n",
    "p_y=0.65\n",
    "\n",
    "p_n=0.35\n",
    "\n",
    "p_y_given_rc=0.5\n",
    "p_n_given_tc=0.5\n",
    "#Using rule of total probability\n",
    "#p_y = p(y,tc) + p(y,rc)\n",
    "#p_y = p(y|tc)*p(tc) + p(y|rc)*p(rc)\n",
    "#Need to find p(y|tc)\n",
    "\n",
    "p_y_given_tc = (p_y - (p_y_given_rc*p_rc))/p_tc\n",
    "p_y_given_tc"
   ]
  },
  {
   "cell_type": "markdown",
   "id": "78f85adf",
   "metadata": {},
   "source": [
    "## Part B"
   ]
  },
  {
   "cell_type": "code",
   "execution_count": 71,
   "id": "60ae6f38",
   "metadata": {},
   "outputs": [
    {
     "data": {
      "text/plain": [
       "0.19888241302651516"
      ]
     },
     "execution_count": 71,
     "metadata": {},
     "output_type": "execute_result"
    }
   ],
   "source": [
    "#given\n",
    "pos_given_dis=0.993\n",
    "neg_given_nodis=0.9999\n",
    "dis=0.000025\n",
    "\n",
    "no_dis=1-dis\n",
    "pos_given_nodis=1-neg_given_nodis\n",
    "\n",
    "#From rule of total probability\n",
    "pos= (pos_given_dis*dis) + (pos_given_nodis*no_dis)\n",
    "\n",
    "#From Bayes rule\n",
    "dis_given_pos = (dis * pos_given_dis)/pos\n",
    "\n",
    "dis_given_pos"
   ]
  }
 ],
 "metadata": {
  "kernelspec": {
   "display_name": "Python 3",
   "language": "python",
   "name": "python3"
  },
  "language_info": {
   "codemirror_mode": {
    "name": "ipython",
    "version": 3
   },
   "file_extension": ".py",
   "mimetype": "text/x-python",
   "name": "python",
   "nbconvert_exporter": "python",
   "pygments_lexer": "ipython3",
   "version": "3.8.8"
  }
 },
 "nbformat": 4,
 "nbformat_minor": 5
}
